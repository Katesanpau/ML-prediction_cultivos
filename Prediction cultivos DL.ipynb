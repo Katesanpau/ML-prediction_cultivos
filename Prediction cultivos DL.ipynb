{
  "cells": [
    {
      "cell_type": "code",
      "execution_count": 1,
      "metadata": {
        "id": "hapG-dsqugcx"
      },
      "outputs": [
        {
          "name": "stderr",
          "output_type": "stream",
          "text": [
            "c:\\Users\\Katherine\\anaconda3\\lib\\site-packages\\pandas\\core\\computation\\expressions.py:21: UserWarning: Pandas requires version '2.8.4' or newer of 'numexpr' (version '2.8.1' currently installed).\n",
            "  from pandas.core.computation.check import NUMEXPR_INSTALLED\n",
            "c:\\Users\\Katherine\\anaconda3\\lib\\site-packages\\pandas\\core\\arrays\\masked.py:60: UserWarning: Pandas requires version '1.3.6' or newer of 'bottleneck' (version '1.3.4' currently installed).\n",
            "  from pandas.core import (\n"
          ]
        }
      ],
      "source": [
        "# Se importan las librerias necesarias para el proyecto\n",
        "import pandas as pd\n",
        "import numpy as np\n",
        "import math\n",
        "import matplotlib.pyplot as plt # Visualization\n",
        "import matplotlib.dates as mdates # Formatting dates\n",
        "import seaborn as sns # Visualization\n",
        "from sklearn.preprocessing import MinMaxScaler\n",
        "import torch # Libreria para implementar Deep learning\n",
        "import torch.nn as nn\n",
        "import torch.nn.functional as F\n",
        "import torch.optim as optim\n",
        "from torch.utils.data import Dataset, DataLoader\n",
        "from sklearn.preprocessing import MinMaxScaler\n",
        "from sklearn.model_selection import RandomizedSearchCV\n",
        "from scipy.stats import uniform"
      ]
    },
    {
      "cell_type": "code",
      "execution_count": 70,
      "metadata": {
        "colab": {
          "base_uri": "https://localhost:8080/",
          "height": 424
        },
        "id": "LpnNKxhCv_e7",
        "outputId": "b789019c-3865-4c24-d251-3d2cf46c144f"
      },
      "outputs": [
        {
          "data": {
            "text/html": [
              "<div>\n",
              "<style scoped>\n",
              "    .dataframe tbody tr th:only-of-type {\n",
              "        vertical-align: middle;\n",
              "    }\n",
              "\n",
              "    .dataframe tbody tr th {\n",
              "        vertical-align: top;\n",
              "    }\n",
              "\n",
              "    .dataframe thead th {\n",
              "        text-align: right;\n",
              "    }\n",
              "</style>\n",
              "<table border=\"1\" class=\"dataframe\">\n",
              "  <thead>\n",
              "    <tr style=\"text-align: right;\">\n",
              "      <th></th>\n",
              "      <th>Fecha</th>\n",
              "      <th>Hora</th>\n",
              "      <th>Theta</th>\n",
              "    </tr>\n",
              "  </thead>\n",
              "  <tbody>\n",
              "    <tr>\n",
              "      <th>0</th>\n",
              "      <td>09/07/2021</td>\n",
              "      <td>00:19:48</td>\n",
              "      <td>38,35</td>\n",
              "    </tr>\n",
              "    <tr>\n",
              "      <th>1</th>\n",
              "      <td>09/07/2021</td>\n",
              "      <td>00:39:46</td>\n",
              "      <td>38,35</td>\n",
              "    </tr>\n",
              "    <tr>\n",
              "      <th>2</th>\n",
              "      <td>09/07/2021</td>\n",
              "      <td>00:59:46</td>\n",
              "      <td>38,35</td>\n",
              "    </tr>\n",
              "    <tr>\n",
              "      <th>3</th>\n",
              "      <td>09/07/2021</td>\n",
              "      <td>01:19:53</td>\n",
              "      <td>38,35</td>\n",
              "    </tr>\n",
              "    <tr>\n",
              "      <th>4</th>\n",
              "      <td>09/07/2021</td>\n",
              "      <td>01:40:01</td>\n",
              "      <td>38,35</td>\n",
              "    </tr>\n",
              "    <tr>\n",
              "      <th>...</th>\n",
              "      <td>...</td>\n",
              "      <td>...</td>\n",
              "      <td>...</td>\n",
              "    </tr>\n",
              "    <tr>\n",
              "      <th>53281</th>\n",
              "      <td>17/08/2023</td>\n",
              "      <td>06:06:14</td>\n",
              "      <td>35,3</td>\n",
              "    </tr>\n",
              "    <tr>\n",
              "      <th>53282</th>\n",
              "      <td>17/08/2023</td>\n",
              "      <td>06:26:12</td>\n",
              "      <td>35</td>\n",
              "    </tr>\n",
              "    <tr>\n",
              "      <th>53283</th>\n",
              "      <td>17/08/2023</td>\n",
              "      <td>06:46:11</td>\n",
              "      <td>34,7</td>\n",
              "    </tr>\n",
              "    <tr>\n",
              "      <th>53284</th>\n",
              "      <td>17/08/2023</td>\n",
              "      <td>07:06:09</td>\n",
              "      <td>35</td>\n",
              "    </tr>\n",
              "    <tr>\n",
              "      <th>53285</th>\n",
              "      <td>17/08/2023</td>\n",
              "      <td>07:26:08</td>\n",
              "      <td>35</td>\n",
              "    </tr>\n",
              "  </tbody>\n",
              "</table>\n",
              "<p>53286 rows × 3 columns</p>\n",
              "</div>"
            ],
            "text/plain": [
              "            Fecha      Hora  Theta\n",
              "0      09/07/2021  00:19:48  38,35\n",
              "1      09/07/2021  00:39:46  38,35\n",
              "2      09/07/2021  00:59:46  38,35\n",
              "3      09/07/2021  01:19:53  38,35\n",
              "4      09/07/2021  01:40:01  38,35\n",
              "...           ...       ...    ...\n",
              "53281  17/08/2023  06:06:14   35,3\n",
              "53282  17/08/2023  06:26:12     35\n",
              "53283  17/08/2023  06:46:11   34,7\n",
              "53284  17/08/2023  07:06:09     35\n",
              "53285  17/08/2023  07:26:08     35\n",
              "\n",
              "[53286 rows x 3 columns]"
            ]
          },
          "execution_count": 70,
          "metadata": {},
          "output_type": "execute_result"
        }
      ],
      "source": [
        "# Cargar datos desde el archivo CSV\n",
        "datos = pd.read_csv('cultivos6.csv', sep=\";\")\n",
        "datos"
      ]
    },
    {
      "cell_type": "code",
      "execution_count": 71,
      "metadata": {
        "colab": {
          "base_uri": "https://localhost:8080/",
          "height": 206
        },
        "id": "hY1_WtF2xOTj",
        "outputId": "e3659632-d1ea-48fe-ca3a-3baecacadfa5"
      },
      "outputs": [
        {
          "data": {
            "text/html": [
              "<div>\n",
              "<style scoped>\n",
              "    .dataframe tbody tr th:only-of-type {\n",
              "        vertical-align: middle;\n",
              "    }\n",
              "\n",
              "    .dataframe tbody tr th {\n",
              "        vertical-align: top;\n",
              "    }\n",
              "\n",
              "    .dataframe thead th {\n",
              "        text-align: right;\n",
              "    }\n",
              "</style>\n",
              "<table border=\"1\" class=\"dataframe\">\n",
              "  <thead>\n",
              "    <tr style=\"text-align: right;\">\n",
              "      <th></th>\n",
              "      <th>Fecha_Hora</th>\n",
              "      <th>Theta</th>\n",
              "    </tr>\n",
              "  </thead>\n",
              "  <tbody>\n",
              "    <tr>\n",
              "      <th>0</th>\n",
              "      <td>2021-07-09 00:19:48</td>\n",
              "      <td>38,35</td>\n",
              "    </tr>\n",
              "    <tr>\n",
              "      <th>1</th>\n",
              "      <td>2021-07-09 00:39:46</td>\n",
              "      <td>38,35</td>\n",
              "    </tr>\n",
              "    <tr>\n",
              "      <th>2</th>\n",
              "      <td>2021-07-09 00:59:46</td>\n",
              "      <td>38,35</td>\n",
              "    </tr>\n",
              "    <tr>\n",
              "      <th>3</th>\n",
              "      <td>2021-07-09 01:19:53</td>\n",
              "      <td>38,35</td>\n",
              "    </tr>\n",
              "    <tr>\n",
              "      <th>4</th>\n",
              "      <td>2021-07-09 01:40:01</td>\n",
              "      <td>38,35</td>\n",
              "    </tr>\n",
              "  </tbody>\n",
              "</table>\n",
              "</div>"
            ],
            "text/plain": [
              "           Fecha_Hora  Theta\n",
              "0 2021-07-09 00:19:48  38,35\n",
              "1 2021-07-09 00:39:46  38,35\n",
              "2 2021-07-09 00:59:46  38,35\n",
              "3 2021-07-09 01:19:53  38,35\n",
              "4 2021-07-09 01:40:01  38,35"
            ]
          },
          "execution_count": 71,
          "metadata": {},
          "output_type": "execute_result"
        }
      ],
      "source": [
        "# Tratamiento de fechas\n",
        "datos['Fecha_Hora'] = pd.to_datetime(datos['Fecha'] + ' ' + datos['Hora'], dayfirst=True)\n",
        "datos = datos.drop(['Fecha', 'Hora'], axis=1)\n",
        "columnas = ['Fecha_Hora'] + [col for col in datos if col != 'Fecha_Hora']\n",
        "datos = datos[columnas]\n",
        "datos.head()"
      ]
    },
    {
      "cell_type": "code",
      "execution_count": 72,
      "metadata": {
        "id": "eZgUey9Rugc1"
      },
      "outputs": [],
      "source": [
        "# Reemplazar comas por puntos y convertir a tipo float\n",
        "datos[['Theta']] = datos[['Theta']].apply(lambda x: x.str.replace(',', '.')).astype(float)\n",
        "# Verificar si 'Fecha_Hora' está en las columnas antes de establecerlo como índice\n",
        "if 'Fecha_Hora' in datos.columns:\n",
        "    # Establecer 'Fecha_Hora' como índice\n",
        "    datos.set_index('Fecha_Hora', inplace=True)\n",
        "    # Ordenar el DataFrame en orden ascendente según el índice\n",
        "    datos.sort_index(inplace=True)"
      ]
    },
    {
      "cell_type": "code",
      "execution_count": 73,
      "metadata": {
        "colab": {
          "base_uri": "https://localhost:8080/"
        },
        "id": "Tr_AP00d6HKI",
        "outputId": "32218656-fcef-4fb7-a844-e3bd1a8b2b9e"
      },
      "outputs": [
        {
          "name": "stdout",
          "output_type": "stream",
          "text": [
            "(42628, 1) (5329, 1) (5329, 1)\n"
          ]
        }
      ],
      "source": [
        "# Definir split\n",
        "train_ratio = 0.8\n",
        "validation_ratio = 0.10\n",
        "test_ratio = 0.10\n",
        "\n",
        "total_len = len(datos)\n",
        "train_data_len = int(total_len * train_ratio)\n",
        "remaining_len = total_len - train_data_len\n",
        "validation_data_len = remaining_len // 2\n",
        "test_data_len = remaining_len - validation_data_len\n",
        "\n",
        "train_data = datos.iloc[:train_data_len]\n",
        "validation_data = datos.iloc[train_data_len:train_data_len + validation_data_len]\n",
        "test_data = datos.iloc[train_data_len + validation_data_len:]\n",
        "\n",
        "# Mostrar formas de las particiones\n",
        "print(train_data.shape, validation_data.shape, test_data.shape)"
      ]
    },
    {
      "cell_type": "code",
      "execution_count": 74,
      "metadata": {
        "id": "YFHqDnFCugc2"
      },
      "outputs": [],
      "source": [
        "# Reshaping 1D to 2D array\n",
        "dataset_train = train_data.Theta.values.reshape(-1, 1)\n",
        "dataset_validation = validation_data.Theta.values.reshape(-1, 1)\n",
        "dataset_test = test_data.Theta.values.reshape(-1, 1)"
      ]
    },
    {
      "cell_type": "code",
      "execution_count": 75,
      "metadata": {
        "id": "Fo2z_S5Bugc3"
      },
      "outputs": [],
      "source": [
        "# normalización de los datos\n",
        "scaler = MinMaxScaler(feature_range=(0, 1))\n",
        "scaled_train = scaler.fit_transform(dataset_train)\n",
        "scaled_validation = scaler.transform(dataset_validation)\n",
        "scaled_test = scaler.transform(dataset_test)"
      ]
    },
    {
      "cell_type": "code",
      "execution_count": 76,
      "metadata": {
        "colab": {
          "base_uri": "https://localhost:8080/"
        },
        "id": "pSLBpOkSFfet",
        "outputId": "1df760ab-c892-4d9e-f97f-9e915aca287d"
      },
      "outputs": [
        {
          "name": "stdout",
          "output_type": "stream",
          "text": [
            "Estructura de los datos:\n",
            "X_train: torch.Size([42556, 72, 1]) y_train: torch.Size([42556, 1])\n",
            "X_val: torch.Size([5257, 72, 1]) y_val: torch.Size([5257, 1])\n",
            "X_test: torch.Size([5257, 72, 1]) y_test: torch.Size([5257, 1])\n"
          ]
        }
      ],
      "source": [
        "def create_sequences_and_labels(data, sequence_length):\n",
        "    X, y = [], []\n",
        "    for i in range(len(data) - sequence_length):\n",
        "        X.append(data[i:i+sequence_length])\n",
        "        y.append(data[i+sequence_length])  # y debe ser el siguiente punto, no una secuencia\n",
        "    return np.array(X), np.array(y)\n",
        "\n",
        "# Longitud de la secuencia\n",
        "sequence_length = 72\n",
        "\n",
        "X_train, y_train = create_sequences_and_labels(scaled_train, sequence_length)\n",
        "X_val, y_val = create_sequences_and_labels(scaled_validation, sequence_length)\n",
        "X_test, y_test = create_sequences_and_labels(scaled_test, sequence_length)\n",
        "\n",
        "# Convertir los datos a tensores de PyTorch\n",
        "X_train_tensor = torch.tensor(X_train, dtype=torch.float32)\n",
        "y_train_tensor = torch.tensor(y_train, dtype=torch.float32)\n",
        "X_val_tensor = torch.tensor(X_val, dtype=torch.float32)\n",
        "y_val_tensor = torch.tensor(y_val, dtype=torch.float32)\n",
        "X_test_tensor = torch.tensor(X_test, dtype=torch.float32)\n",
        "y_test_tensor = torch.tensor(y_test, dtype=torch.float32)\n",
        "\n",
        "print(\"Estructura de los datos:\")\n",
        "print(\"X_train:\", X_train_tensor.shape, \"y_train:\", y_train_tensor.shape)\n",
        "print(\"X_val:\", X_val_tensor.shape, \"y_val:\", y_val_tensor.shape)\n",
        "print(\"X_test:\", X_test_tensor.shape, \"y_test:\", y_test_tensor.shape)"
      ]
    },
    {
      "cell_type": "code",
      "execution_count": 77,
      "metadata": {
        "id": "-KrG5Xp7ugc6"
      },
      "outputs": [],
      "source": [
        "class LSTMModel(nn.Module):\n",
        "\t# input_size : number of features in input at each time step\n",
        "\t# hidden_size : Number of LSTM units\n",
        "\t# num_layers : number of LSTM layers\n",
        "\tdef __init__(self, input_size, hidden_size, num_layers):\n",
        "\t\tsuper(LSTMModel, self).__init__() #initializes the parent class nn.Module\n",
        "\t\tself.lstm = nn.LSTM(input_size, hidden_size, num_layers, batch_first=True)\n",
        "\t\tself.linear = nn.Linear(hidden_size, 1)\n",
        "\n",
        "\tdef forward(self, x): # defines forward pass of the neural network\n",
        "\t\tout, _ = self.lstm(x)\n",
        "\t\tout = self.linear(out)\n",
        "\t\treturn out"
      ]
    },
    {
      "cell_type": "code",
      "execution_count": 78,
      "metadata": {
        "colab": {
          "base_uri": "https://localhost:8080/"
        },
        "id": "40m81W9kugc7",
        "outputId": "ebf8cbf9-8a98-48cb-c7ee-cc652d28af75"
      },
      "outputs": [
        {
          "name": "stdout",
          "output_type": "stream",
          "text": [
            "cpu\n"
          ]
        }
      ],
      "source": [
        "device = torch.device('cuda' if torch.cuda.is_available() else 'cpu')\n",
        "print(device)"
      ]
    },
    {
      "cell_type": "code",
      "execution_count": 79,
      "metadata": {
        "colab": {
          "base_uri": "https://localhost:8080/"
        },
        "id": "R6wCaB0Iugc8",
        "outputId": "5fdf7224-c598-4e31-8bfc-492ca8cf8ab2"
      },
      "outputs": [
        {
          "name": "stdout",
          "output_type": "stream",
          "text": [
            "LSTMModel(\n",
            "  (lstm): LSTM(1, 64, num_layers=2, batch_first=True)\n",
            "  (linear): Linear(in_features=64, out_features=1, bias=True)\n",
            ")\n"
          ]
        }
      ],
      "source": [
        "input_size = 1\n",
        "num_layers = 2\n",
        "hidden_size = 64\n",
        "output_size = 1\n",
        "\n",
        "# Define the model, loss function, and optimizer\n",
        "model = LSTMModel(input_size, hidden_size, num_layers).to(device)\n",
        "\n",
        "loss_fn = torch.nn.MSELoss(reduction='mean')\n",
        "\n",
        "optimizer = torch.optim.Adam(model.parameters(), lr=1e-3)\n",
        "print(model)"
      ]
    },
    {
      "cell_type": "code",
      "execution_count": 80,
      "metadata": {
        "id": "btbwPXo8ugc9"
      },
      "outputs": [],
      "source": [
        "# Define batch size\n",
        "batch_size = 64\n",
        "\n",
        "# Create DataLoader for batch training\n",
        "train_dataset = torch.utils.data.TensorDataset(X_train_tensor, y_train_tensor)\n",
        "train_loader = torch.utils.data.DataLoader(train_dataset, batch_size=batch_size, shuffle=True)\n",
        "\n",
        "# Create DataLoader for batch validation\n",
        "val_dataset = torch.utils.data.TensorDataset(X_val_tensor, y_val_tensor)\n",
        "val_loader = torch.utils.data.DataLoader(val_dataset, batch_size=batch_size, shuffle=False)\n",
        "\n",
        "# Create DataLoader for batch testing\n",
        "test_dataset = torch.utils.data.TensorDataset(X_test_tensor, y_test_tensor)\n",
        "test_loader = torch.utils.data.DataLoader(test_dataset, batch_size=batch_size, shuffle=False)\n"
      ]
    },
    {
      "cell_type": "code",
      "execution_count": 81,
      "metadata": {},
      "outputs": [
        {
          "name": "stdout",
          "output_type": "stream",
          "text": [
            "Epoch [10/80] - Training Loss: 0.0023, Validation Loss: 0.0006, Test Loss: 0.0003\n",
            "Epoch [20/80] - Training Loss: 0.0016, Validation Loss: 0.0003, Test Loss: 0.0001\n",
            "Epoch [30/80] - Training Loss: 0.0014, Validation Loss: 0.0002, Test Loss: 0.0001\n",
            "Epoch [40/80] - Training Loss: 0.0014, Validation Loss: 0.0003, Test Loss: 0.0001\n",
            "Epoch [50/80] - Training Loss: 0.0013, Validation Loss: 0.0003, Test Loss: 0.0002\n",
            "Epoch [60/80] - Training Loss: 0.0012, Validation Loss: 0.0002, Test Loss: 0.0001\n",
            "Epoch [70/80] - Training Loss: 0.0012, Validation Loss: 0.0002, Test Loss: 0.0001\n",
            "Epoch [80/80] - Training Loss: 0.0011, Validation Loss: 0.0003, Test Loss: 0.0001\n"
          ]
        }
      ],
      "source": [
        "num_epochs = 80\n",
        "train_hist = []\n",
        "val_hist = []\n",
        "test_hist = []\n",
        "\n",
        "# Training loop\n",
        "for epoch in range(num_epochs):\n",
        "    total_loss = 0.0\n",
        "\n",
        "    # Training\n",
        "    model.train()\n",
        "    for batch_X, batch_y in train_loader:\n",
        "        batch_X, batch_y = batch_X.to(device), batch_y.to(device)\n",
        "        predictions = model(batch_X)[:, -1, :]  # Predicción solo del último punto\n",
        "\n",
        "        # Asegurarse de que batch_y tenga la forma correcta\n",
        "        batch_y = batch_y[:, -1].unsqueeze(-1)  # Usar solo el último punto de la secuencia y agregar una dimensión\n",
        "\n",
        "        loss = loss_fn(predictions, batch_y)\n",
        "\n",
        "        optimizer.zero_grad()\n",
        "        loss.backward()\n",
        "        optimizer.step()\n",
        "\n",
        "        total_loss += loss.item()\n",
        "\n",
        "    # Calculate average training loss\n",
        "    average_loss = total_loss / len(train_loader)\n",
        "    train_hist.append(average_loss)\n",
        "\n",
        "    # Validation\n",
        "    model.eval()\n",
        "    with torch.no_grad():\n",
        "        total_val_loss = 0.0\n",
        "\n",
        "        for batch_X_val, batch_y_val in val_loader:\n",
        "            batch_X_val, batch_y_val = batch_X_val.to(device), batch_y_val.to(device)\n",
        "            predictions_val = model(batch_X_val)[:, -1, :]  # Predicción solo del último punto\n",
        "\n",
        "            # Asegurarse de que batch_y_val tenga la forma correcta\n",
        "            batch_y_val = batch_y_val[:, -1].unsqueeze(-1)  # Usar solo el último punto de la secuencia y agregar una dimensión\n",
        "\n",
        "            val_loss = loss_fn(predictions_val, batch_y_val)\n",
        "\n",
        "            total_val_loss += val_loss.item()\n",
        "\n",
        "    # Calculate average validation loss\n",
        "    average_val_loss = total_val_loss / len(val_loader)\n",
        "    val_hist.append(average_val_loss)\n",
        "\n",
        "    # Test\n",
        "    with torch.no_grad():\n",
        "        total_test_loss = 0.0\n",
        "\n",
        "        for batch_X_test, batch_y_test in test_loader:\n",
        "            batch_X_test, batch_y_test = batch_X_test.to(device), batch_y_test.to(device)\n",
        "            predictions_test = model(batch_X_test)[:, -1, :]  # Predicción solo del último punto\n",
        "\n",
        "            # Asegurarse de que batch_y_test tenga la forma correcta\n",
        "            batch_y_test = batch_y_test[:, -1].unsqueeze(-1)  # Usar solo el último punto de la secuencia y agregar una dimensión\n",
        "\n",
        "            test_loss = loss_fn(predictions_test, batch_y_test)\n",
        "\n",
        "            total_test_loss += test_loss.item()\n",
        "\n",
        "    # Calculate average test loss\n",
        "    average_test_loss = total_test_loss / len(test_loader)\n",
        "    test_hist.append(average_test_loss)\n",
        "\n",
        "    if (epoch + 1) % 10 == 0:\n",
        "        print(f'Epoch [{epoch + 1}/{num_epochs}] - Training Loss: {average_loss:.4f}, Validation Loss: {average_val_loss:.4f}, Test Loss: {average_test_loss:.4f}')"
      ]
    },
    {
      "cell_type": "code",
      "execution_count": 85,
      "metadata": {
        "id": "ePa5HqCKNzMM"
      },
      "outputs": [
        {
          "data": {
            "image/png": "[encoded data removed]",
            "text/plain": [
              "<Figure size 432x288 with 1 Axes>"
            ]
          },
          "metadata": {
            "needs_background": "light"
          },
          "output_type": "display_data"
        }
      ],
      "source": [
        "# Graficar las pérdidas\n",
        "x = np.linspace(1, num_epochs, num_epochs)\n",
        "plt.plot(x, train_hist, label=\"Training loss\")\n",
        "plt.plot(x, val_hist, label=\"Validation loss\")\n",
        "plt.plot(x, test_hist, label=\"Test loss\")\n",
        "plt.legend()\n",
        "plt.xlabel('Epoch')\n",
        "plt.ylabel('Loss')\n",
        "plt.title('Training, Validation, and Test Loss')\n",
        "plt.show()"
      ]
    },
    {
      "cell_type": "code",
      "execution_count": 86,
      "metadata": {
        "id": "hUk09Jbkugc_",
        "outputId": "7ce6fe79-5faf-49b9-858d-2dbb149b176c"
      },
      "outputs": [
        {
          "data": {
            "image/png": "[encoded data removed]",
            "text/plain": [
              "<Figure size 432x288 with 1 Axes>"
            ]
          },
          "metadata": {
            "needs_background": "light"
          },
          "output_type": "display_data"
        }
      ],
      "source": [
        "x = np.linspace(1,num_epochs,num_epochs)\n",
        "plt.plot(x,train_hist,scalex=True, label=\"Training loss\")\n",
        "plt.plot(x, test_hist, label=\"Test loss\")\n",
        "plt.legend()\n",
        "plt.show()"
      ]
    },
    {
      "cell_type": "code",
      "execution_count": 100,
      "metadata": {},
      "outputs": [
        {
          "data": {
            "image/png": "[encoded data removed]",
            "text/plain": [
              "<Figure size 864x432 with 1 Axes>"
            ]
          },
          "metadata": {
            "needs_background": "light"
          },
          "output_type": "display_data"
        }
      ],
      "source": [
        "# Definir el número de pasos futuros para pronosticar\n",
        "num_forecast_steps = 30\n",
        "\n",
        "# Convertir a NumPy y eliminar dimensiones individuales\n",
        "sequence_to_plot = X_test_tensor.squeeze().cpu().numpy()  # Usar los datos de prueba tensorizados\n",
        "historical_data = sequence_to_plot[-1]\n",
        "\n",
        "# Inicializar una lista para almacenar los valores pronosticados\n",
        "forecasted_values = []\n",
        "\n",
        "# Usar el modelo entrenado para pronosticar valores futuros\n",
        "with torch.no_grad():\n",
        "    for _ in range(num_forecast_steps):\n",
        "        # Preparar el tensor historical_data\n",
        "        historical_data_tensor = torch.as_tensor(historical_data).view(1, -1, 1).float().to(device)\n",
        "        # Usar el modelo para predecir el siguiente valor\n",
        "        predicted_value = model(historical_data_tensor).cpu().numpy()[0, 0]\n",
        "\n",
        "        # Añadir el valor predicho a la lista forecasted_values\n",
        "        forecasted_values.append(predicted_value)\n",
        "\n",
        "        # Actualizar la secuencia historical_data eliminando el valor más antiguo y añadiendo el valor predicho\n",
        "        historical_data = np.roll(historical_data, shift=-1)\n",
        "        historical_data[-1] = predicted_value\n",
        "\n",
        "# Revertir la normalización de los valores pronosticados\n",
        "forecasted_values = np.array(forecasted_values).reshape(-1, 1)  # Asegurar que los datos estén en el formato adecuado\n",
        "forecasted_values = scaler.inverse_transform(forecasted_values)  # Revertir la normalización\n",
        "\n",
        "# Generar fechas futuras\n",
        "last_date = test_data.index[-1]\n",
        "future_dates = pd.date_range(start=last_date + pd.DateOffset(1), periods=num_forecast_steps)\n",
        "\n",
        "# Crear un DataFrame para los valores pronosticados revertidos\n",
        "forecasted_df = pd.DataFrame(data=forecasted_values, index=future_dates, columns=['Forecasted_Theta'])\n",
        "\n",
        "# Convertir los datos de prueba a arrays de NumPy\n",
        "actual_values = test_data['Theta'].values\n",
        "\n",
        "# Graficar los resultados\n",
        "plt.figure(figsize=(12, 6))\n",
        "plt.plot(test_data.index.to_numpy(), actual_values, label='Actual')\n",
        "plt.plot(forecasted_df.index.to_numpy(), forecasted_df['Forecasted_Theta'].values, label='Forecasted')\n",
        "plt.xlabel('Date')\n",
        "plt.ylabel('Theta')\n",
        "plt.title('Actual vs Forecasted Theta')\n",
        "plt.legend()\n",
        "plt.show()\n"
      ]
    },
    {
      "cell_type": "code",
      "execution_count": 101,
      "metadata": {
        "id": "wWe9tgC4ugdA",
        "outputId": "1730f69a-7400-4904-8c31-b55744930f62"
      },
      "outputs": [
        {
          "data": {
            "text/html": [
              "<div>\n",
              "<style scoped>\n",
              "    .dataframe tbody tr th:only-of-type {\n",
              "        vertical-align: middle;\n",
              "    }\n",
              "\n",
              "    .dataframe tbody tr th {\n",
              "        vertical-align: top;\n",
              "    }\n",
              "\n",
              "    .dataframe thead th {\n",
              "        text-align: right;\n",
              "    }\n",
              "</style>\n",
              "<table border=\"1\" class=\"dataframe\">\n",
              "  <thead>\n",
              "    <tr style=\"text-align: right;\">\n",
              "      <th></th>\n",
              "      <th>Forecasted_Theta</th>\n",
              "    </tr>\n",
              "  </thead>\n",
              "  <tbody>\n",
              "    <tr>\n",
              "      <th>2023-08-18 07:26:08</th>\n",
              "      <td>36.152328</td>\n",
              "    </tr>\n",
              "    <tr>\n",
              "      <th>2023-08-19 07:26:08</th>\n",
              "      <td>36.152328</td>\n",
              "    </tr>\n",
              "    <tr>\n",
              "      <th>2023-08-20 07:26:08</th>\n",
              "      <td>36.152328</td>\n",
              "    </tr>\n",
              "    <tr>\n",
              "      <th>2023-08-21 07:26:08</th>\n",
              "      <td>36.152328</td>\n",
              "    </tr>\n",
              "    <tr>\n",
              "      <th>2023-08-22 07:26:08</th>\n",
              "      <td>36.152328</td>\n",
              "    </tr>\n",
              "    <tr>\n",
              "      <th>2023-08-23 07:26:08</th>\n",
              "      <td>36.257496</td>\n",
              "    </tr>\n",
              "    <tr>\n",
              "      <th>2023-08-24 07:26:08</th>\n",
              "      <td>36.152328</td>\n",
              "    </tr>\n",
              "    <tr>\n",
              "      <th>2023-08-25 07:26:08</th>\n",
              "      <td>36.028191</td>\n",
              "    </tr>\n",
              "    <tr>\n",
              "      <th>2023-08-26 07:26:08</th>\n",
              "      <td>36.028191</td>\n",
              "    </tr>\n",
              "    <tr>\n",
              "      <th>2023-08-27 07:26:08</th>\n",
              "      <td>36.028191</td>\n",
              "    </tr>\n",
              "    <tr>\n",
              "      <th>2023-08-28 07:26:08</th>\n",
              "      <td>36.152328</td>\n",
              "    </tr>\n",
              "    <tr>\n",
              "      <th>2023-08-29 07:26:08</th>\n",
              "      <td>35.888447</td>\n",
              "    </tr>\n",
              "    <tr>\n",
              "      <th>2023-08-30 07:26:08</th>\n",
              "      <td>35.888447</td>\n",
              "    </tr>\n",
              "    <tr>\n",
              "      <th>2023-08-31 07:26:08</th>\n",
              "      <td>36.028191</td>\n",
              "    </tr>\n",
              "    <tr>\n",
              "      <th>2023-09-01 07:26:08</th>\n",
              "      <td>35.888447</td>\n",
              "    </tr>\n",
              "    <tr>\n",
              "      <th>2023-09-02 07:26:08</th>\n",
              "      <td>36.028191</td>\n",
              "    </tr>\n",
              "    <tr>\n",
              "      <th>2023-09-03 07:26:08</th>\n",
              "      <td>35.888447</td>\n",
              "    </tr>\n",
              "    <tr>\n",
              "      <th>2023-09-04 07:26:08</th>\n",
              "      <td>36.152328</td>\n",
              "    </tr>\n",
              "    <tr>\n",
              "      <th>2023-09-05 07:26:08</th>\n",
              "      <td>36.152328</td>\n",
              "    </tr>\n",
              "    <tr>\n",
              "      <th>2023-09-06 07:26:08</th>\n",
              "      <td>36.152328</td>\n",
              "    </tr>\n",
              "    <tr>\n",
              "      <th>2023-09-07 07:26:08</th>\n",
              "      <td>36.152328</td>\n",
              "    </tr>\n",
              "    <tr>\n",
              "      <th>2023-09-08 07:26:08</th>\n",
              "      <td>36.152328</td>\n",
              "    </tr>\n",
              "    <tr>\n",
              "      <th>2023-09-09 07:26:08</th>\n",
              "      <td>36.152328</td>\n",
              "    </tr>\n",
              "    <tr>\n",
              "      <th>2023-09-10 07:26:08</th>\n",
              "      <td>36.152328</td>\n",
              "    </tr>\n",
              "    <tr>\n",
              "      <th>2023-09-11 07:26:08</th>\n",
              "      <td>36.152328</td>\n",
              "    </tr>\n",
              "    <tr>\n",
              "      <th>2023-09-12 07:26:08</th>\n",
              "      <td>36.152328</td>\n",
              "    </tr>\n",
              "    <tr>\n",
              "      <th>2023-09-13 07:26:08</th>\n",
              "      <td>36.152328</td>\n",
              "    </tr>\n",
              "    <tr>\n",
              "      <th>2023-09-14 07:26:08</th>\n",
              "      <td>36.257496</td>\n",
              "    </tr>\n",
              "    <tr>\n",
              "      <th>2023-09-15 07:26:08</th>\n",
              "      <td>36.257496</td>\n",
              "    </tr>\n",
              "    <tr>\n",
              "      <th>2023-09-16 07:26:08</th>\n",
              "      <td>36.257496</td>\n",
              "    </tr>\n",
              "  </tbody>\n",
              "</table>\n",
              "</div>"
            ],
            "text/plain": [
              "                     Forecasted_Theta\n",
              "2023-08-18 07:26:08         36.152328\n",
              "2023-08-19 07:26:08         36.152328\n",
              "2023-08-20 07:26:08         36.152328\n",
              "2023-08-21 07:26:08         36.152328\n",
              "2023-08-22 07:26:08         36.152328\n",
              "2023-08-23 07:26:08         36.257496\n",
              "2023-08-24 07:26:08         36.152328\n",
              "2023-08-25 07:26:08         36.028191\n",
              "2023-08-26 07:26:08         36.028191\n",
              "2023-08-27 07:26:08         36.028191\n",
              "2023-08-28 07:26:08         36.152328\n",
              "2023-08-29 07:26:08         35.888447\n",
              "2023-08-30 07:26:08         35.888447\n",
              "2023-08-31 07:26:08         36.028191\n",
              "2023-09-01 07:26:08         35.888447\n",
              "2023-09-02 07:26:08         36.028191\n",
              "2023-09-03 07:26:08         35.888447\n",
              "2023-09-04 07:26:08         36.152328\n",
              "2023-09-05 07:26:08         36.152328\n",
              "2023-09-06 07:26:08         36.152328\n",
              "2023-09-07 07:26:08         36.152328\n",
              "2023-09-08 07:26:08         36.152328\n",
              "2023-09-09 07:26:08         36.152328\n",
              "2023-09-10 07:26:08         36.152328\n",
              "2023-09-11 07:26:08         36.152328\n",
              "2023-09-12 07:26:08         36.152328\n",
              "2023-09-13 07:26:08         36.152328\n",
              "2023-09-14 07:26:08         36.257496\n",
              "2023-09-15 07:26:08         36.257496\n",
              "2023-09-16 07:26:08         36.257496"
            ]
          },
          "execution_count": 101,
          "metadata": {},
          "output_type": "execute_result"
        }
      ],
      "source": [
        "forecasted_df"
      ]
    }
  ],
  "metadata": {
    "colab": {
      "provenance": []
    },
    "kernelspec": {
      "display_name": "base",
      "language": "python",
      "name": "python3"
    },
    "language_info": {
      "codemirror_mode": {
        "name": "ipython",
        "version": 3
      },
      "file_extension": ".py",
      "mimetype": "text/x-python",
      "name": "python",
      "nbconvert_exporter": "python",
      "pygments_lexer": "ipython3",
      "version": "3.9.12"
    }
  },
  "nbformat": 4,
  "nbformat_minor": 0
}
